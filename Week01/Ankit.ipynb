{
 "cells": [
  {
   "cell_type": "markdown",
   "id": "86855496-e5d8-43bf-858c-1ad8f26ee560",
   "metadata": {},
   "source": [
    "## ICP WEEK 1\n",
    "\n",
    "## Ankit Patro\n",
    "\n",
    "This is the first in class assignment"
   ]
  },
  {
   "cell_type": "markdown",
   "id": "02cc04e0-37c7-4f60-84f3-cc1da500410b",
   "metadata": {},
   "source": [
    "## Introduction\n",
    "\n",
    "![OOPS!](Ankit.jfif)\n",
    "\n",
    "Ankit Patro\n",
    "\n",
    "I am Ankit Patro from India, currently pursuing masters in BAIS from University of South Florida in United States of America. Back in India, i had a work experience of 3 yrs as Software Engineer in Wipro Technologies. Now i am here to deep dive into more complex concepts about data and its visualizations.\n"
   ]
  },
  {
   "cell_type": "code",
   "execution_count": null,
   "id": "22ac5f8a-0120-4cee-90c6-56786192ed4e",
   "metadata": {},
   "outputs": [],
   "source": []
  }
 ],
 "metadata": {
  "kernelspec": {
   "display_name": "Python 3 (ipykernel)",
   "language": "python",
   "name": "python3"
  },
  "language_info": {
   "codemirror_mode": {
    "name": "ipython",
    "version": 3
   },
   "file_extension": ".py",
   "mimetype": "text/x-python",
   "name": "python",
   "nbconvert_exporter": "python",
   "pygments_lexer": "ipython3",
   "version": "3.9.12"
  }
 },
 "nbformat": 4,
 "nbformat_minor": 5
}
